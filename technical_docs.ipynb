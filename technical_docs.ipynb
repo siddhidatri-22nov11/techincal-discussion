{
  "nbformat": 4,
  "nbformat_minor": 0,
  "metadata": {
    "colab": {
      "provenance": [],
      "authorship_tag": "ABX9TyPbZXiBUAPux3v51CQDpuPo",
      "include_colab_link": true
    },
    "kernelspec": {
      "name": "python3",
      "display_name": "Python 3"
    },
    "language_info": {
      "name": "python"
    }
  },
  "cells": [
    {
      "cell_type": "markdown",
      "metadata": {
        "id": "view-in-github",
        "colab_type": "text"
      },
      "source": [
        "<a href=\"https://colab.research.google.com/github/siddhidatri-22nov11/techincal-discussion/blob/main/technical_docs.ipynb\" target=\"_parent\"><img src=\"https://colab.research.google.com/assets/colab-badge.svg\" alt=\"Open In Colab\"/></a>"
      ]
    },
    {
      "cell_type": "markdown",
      "source": [
        "##ingest "
      ],
      "metadata": {
        "id": "fcWQ21T4V8qt"
      }
    },
    {
      "cell_type": "code",
      "execution_count": 1,
      "metadata": {
        "colab": {
          "base_uri": "https://localhost:8080/",
          "height": 35
        },
        "id": "mjyNR99ESREG",
        "outputId": "b5938aab-f337-4d05-bf93-26d3ddbc08bf"
      },
      "outputs": [
        {
          "output_type": "execute_result",
          "data": {
            "text/plain": [
              "'hi'"
            ],
            "application/vnd.google.colaboratory.intrinsic+json": {
              "type": "string"
            }
          },
          "metadata": {},
          "execution_count": 1
        }
      ],
      "source": [
        "def hello():\n",
        "  return 'hi'\n",
        "hello()"
      ]
    },
    {
      "cell_type": "markdown",
      "source": [
        "##EDA"
      ],
      "metadata": {
        "id": "nifeRHN1WQsA"
      }
    },
    {
      "cell_type": "code",
      "source": [],
      "metadata": {
        "id": "7DRXDp-IXuDe"
      },
      "execution_count": null,
      "outputs": []
    },
    {
      "cell_type": "markdown",
      "source": [
        "##this ia a markdown heading\n",
        "*one\n",
        "\n",
        "*two"
      ],
      "metadata": {
        "id": "tmShS16_YCER"
      }
    },
    {
      "cell_type": "markdown",
      "source": [
        "##Modeling"
      ],
      "metadata": {
        "id": "ME6_lNAdXLJY"
      }
    },
    {
      "cell_type": "code",
      "source": [],
      "metadata": {
        "id": "TsHF8kefX1VU"
      },
      "execution_count": null,
      "outputs": []
    },
    {
      "cell_type": "markdown",
      "source": [
        "##conculsion"
      ],
      "metadata": {
        "id": "W3glrK_dXcMl"
      }
    },
    {
      "cell_type": "code",
      "source": [],
      "metadata": {
        "id": "VlCp5INiX3RV"
      },
      "execution_count": null,
      "outputs": []
    }
  ]
}